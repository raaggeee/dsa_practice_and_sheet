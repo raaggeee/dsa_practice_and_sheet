{
 "cells": [
  {
   "cell_type": "code",
   "execution_count": 2,
   "id": "f5c537f2",
   "metadata": {},
   "outputs": [
    {
     "data": {
      "text/plain": [
       "[1, 2, 3]"
      ]
     },
     "execution_count": 2,
     "metadata": {},
     "output_type": "execute_result"
    }
   ],
   "source": [
    "arr = [1, 2, 3, 4, 5]\n",
    "len(arr)\n",
    "arr[:3]"
   ]
  },
  {
   "cell_type": "code",
   "execution_count": 62,
   "id": "8569a887",
   "metadata": {},
   "outputs": [],
   "source": [
    "def left_rotate_arr(nums, k):\n",
    "    #get k temp variables\n",
    "    print(len(nums))\n",
    "    # k+=1\n",
    "    temp = [0]*k\n",
    "    for i in range(k):\n",
    "        temp[i] = nums[i]\n",
    "\n",
    "    print(temp)\n",
    "\n",
    "    #now shift elements from k to i-k\n",
    "    for i in range(k, len(nums)):\n",
    "        nums[i-k] = nums[i]\n",
    "\n",
    "    print(nums)\n",
    "    #now put back the temp elements at the end\n",
    "    for i in range(len(nums)-k, len(nums)):\n",
    "        nums[i] = temp[i - (len(nums) - k)]\n",
    "\n",
    "    return nums\n"
   ]
  },
  {
   "cell_type": "code",
   "execution_count": 93,
   "id": "7283b348",
   "metadata": {},
   "outputs": [],
   "source": [
    "def right_rotate_arr(nums, k):\n",
    "    #get k temp variables\n",
    "    print(len(nums))\n",
    "    # k+=1\n",
    "    temp = []\n",
    "    for i in range(len(nums)-k, len(nums)):\n",
    "        print(nums[i])\n",
    "        temp.append(nums[i])\n",
    "\n",
    "    print(temp)\n",
    "\n",
    "    #now shift elements from k to i-k\n",
    "    for i in range(len(nums)-k-1, -1, -1):\n",
    "        nums[i+k] = nums[i]\n",
    "\n",
    "    print(nums)\n",
    "    #now put back the temp elements at the end\n",
    "    for i in range(len(temp)):\n",
    "        nums[i] = temp[i]\n",
    "\n",
    "    return nums"
   ]
  },
  {
   "cell_type": "code",
   "execution_count": 94,
   "id": "0f06e797",
   "metadata": {},
   "outputs": [
    {
     "name": "stdout",
     "output_type": "stream",
     "text": [
      "4\n",
      "3\n",
      "99\n",
      "[3, 99]\n",
      "[-1, -100, -1, -100]\n"
     ]
    },
    {
     "data": {
      "text/plain": [
       "[3, 99, -1, -100]"
      ]
     },
     "execution_count": 94,
     "metadata": {},
     "output_type": "execute_result"
    }
   ],
   "source": [
    "right_rotate_arr([-1,-100,3,99], 2)"
   ]
  },
  {
   "cell_type": "code",
   "execution_count": 95,
   "id": "26e2fee6",
   "metadata": {},
   "outputs": [
    {
     "name": "stdout",
     "output_type": "stream",
     "text": [
      "7\n",
      "5\n",
      "6\n",
      "7\n",
      "[5, 6, 7]\n",
      "[1, 2, 3, 1, 2, 3, 4]\n"
     ]
    },
    {
     "data": {
      "text/plain": [
       "[5, 6, 7, 1, 2, 3, 4]"
      ]
     },
     "execution_count": 95,
     "metadata": {},
     "output_type": "execute_result"
    }
   ],
   "source": [
    "right_rotate_arr([1,2,3,4,5,6,7], 3)"
   ]
  },
  {
   "cell_type": "code",
   "execution_count": null,
   "id": "8720e6c9",
   "metadata": {},
   "outputs": [],
   "source": [
    "\n",
    "k=3\n",
    "lst[:3].reverse()"
   ]
  },
  {
   "cell_type": "code",
   "execution_count": 123,
   "id": "583faa51",
   "metadata": {},
   "outputs": [],
   "source": [
    "def reverse(nums, li, ri):\n",
    "    while li < ri:\n",
    "        temp = nums[li]\n",
    "        nums[li] = nums[ri]\n",
    "        nums[ri] = temp\n",
    "\n",
    "        li += 1\n",
    "        ri -= 1\n",
    "\n",
    "    return nums"
   ]
  },
  {
   "cell_type": "code",
   "execution_count": 132,
   "id": "3c3f03ab",
   "metadata": {},
   "outputs": [
    {
     "data": {
      "text/plain": [
       "[5, 6, 7, 1, 2, 3, 4]"
      ]
     },
     "execution_count": 132,
     "metadata": {},
     "output_type": "execute_result"
    }
   ],
   "source": [
    "lst = [1,2,3,4,5,6,7]\n",
    "reverse(lst, 0, len(lst)-k-1)\n",
    "reverse(lst, len(lst)-k, len(lst)-1)\n",
    "reverse(lst, 0, len(lst)-1)"
   ]
  },
  {
   "cell_type": "markdown",
   "id": "18c95a55",
   "metadata": {},
   "source": [
    "# Move Zeroes"
   ]
  },
  {
   "cell_type": "code",
   "execution_count": 147,
   "id": "b4eeb7c2",
   "metadata": {},
   "outputs": [],
   "source": [
    "nums = [0, 1, 0, 3]\n",
    "\n",
    "def move_zeroes(nums):\n",
    "    temp = []\n",
    "    for i in range(len(nums)):\n",
    "        if nums[i] != 0:\n",
    "            temp.append(nums[i])\n",
    "    print(temp)\n",
    "\n",
    "    for i in range(len(temp)):\n",
    "        nums[i] = temp[i]\n",
    "\n",
    "    for j in range(len(temp), len(nums)):\n",
    "        nums[j] = 0\n",
    "\n",
    "    return nums\n"
   ]
  },
  {
   "cell_type": "code",
   "execution_count": 148,
   "id": "4a360c5b",
   "metadata": {},
   "outputs": [
    {
     "name": "stdout",
     "output_type": "stream",
     "text": [
      "[1, 2, 2, 1]\n"
     ]
    },
    {
     "data": {
      "text/plain": [
       "[1, 2, 2, 1, 0]"
      ]
     },
     "execution_count": 148,
     "metadata": {},
     "output_type": "execute_result"
    }
   ],
   "source": [
    "\n",
    "move_zeroes([1, 2, 0, 2, 1])"
   ]
  },
  {
   "cell_type": "markdown",
   "id": "d2f7b4c9",
   "metadata": {},
   "source": [
    "### Optimal approach"
   ]
  },
  {
   "cell_type": "code",
   "execution_count": null,
   "id": "f93c41cd",
   "metadata": {},
   "outputs": [],
   "source": [
    "def move_zeroes(nums):\n",
    "    j = 0\n",
    "    for i in range(0, len(nums)):\n",
    "        if nums[i] == 0:\n",
    "            j = i\n",
    "            break\n",
    "\n",
    "    for k in range(j+1, len(nums)):\n",
    "        if nums[k] != 0 and nums[j]==0:\n",
    "            nums[k], nums[j] = nums[j], nums[k]\n",
    "\n",
    "            j += 1\n",
    "\n",
    "    return nums\n"
   ]
  },
  {
   "cell_type": "code",
   "execution_count": 173,
   "id": "e5fc0f5b",
   "metadata": {},
   "outputs": [
    {
     "data": {
      "text/plain": [
       "[2, 1]"
      ]
     },
     "execution_count": 173,
     "metadata": {},
     "output_type": "execute_result"
    }
   ],
   "source": [
    "\n",
    "move_zeroes([2, 1])"
   ]
  },
  {
   "cell_type": "markdown",
   "id": "17b5e1f7",
   "metadata": {},
   "source": [
    "# Two Sum"
   ]
  },
  {
   "cell_type": "markdown",
   "id": "1c3aa3fe",
   "metadata": {},
   "source": [
    "## Bruteforce\n",
    "Use two for loops to traverse the array and find the sum"
   ]
  },
  {
   "cell_type": "code",
   "execution_count": 5,
   "id": "cdf600f6",
   "metadata": {},
   "outputs": [
    {
     "data": {
      "text/plain": [
       "[0, 1]"
      ]
     },
     "execution_count": 5,
     "metadata": {},
     "output_type": "execute_result"
    }
   ],
   "source": [
    "def two_sum(arr, res):\n",
    "    for i in range(len(arr)):\n",
    "        for j in range(i, len(arr)):\n",
    "            if arr[i] + arr[j] == res:\n",
    "                return [i, j]\n",
    "            \n",
    "    return []\n",
    "\n",
    "two_sum([2,7,11,15], 9)\n"
   ]
  },
  {
   "cell_type": "markdown",
   "id": "f00432ee",
   "metadata": {},
   "source": [
    "## Better Solution\n",
    "Using additional datas structure to optimize the problem"
   ]
  },
  {
   "cell_type": "code",
   "execution_count": 7,
   "id": "c114d292",
   "metadata": {},
   "outputs": [
    {
     "data": {
      "text/plain": [
       "[0, 1]"
      ]
     },
     "execution_count": 7,
     "metadata": {},
     "output_type": "execute_result"
    }
   ],
   "source": [
    "def two_sum(arr, target):\n",
    "    arrHash = {}\n",
    "\n",
    "    for i in range(len(arr)):\n",
    "        res = target - arr[i]\n",
    "\n",
    "        if res in arrHash:\n",
    "            return [arrHash[res], i]\n",
    "        else:\n",
    "            arrHash[arr[i]] = i\n",
    "\n",
    "two_sum([2,7,11,15], 9)"
   ]
  },
  {
   "cell_type": "markdown",
   "id": "da9cb1de",
   "metadata": {},
   "source": [
    "## Optimal\n",
    "Using two pointers with scanning\n",
    "We cant use this here. Because array is not sorted"
   ]
  },
  {
   "cell_type": "code",
   "execution_count": 24,
   "id": "6db7f5ab",
   "metadata": {},
   "outputs": [
    {
     "name": "stdout",
     "output_type": "stream",
     "text": [
      "3\n",
      "5\n",
      "4\n"
     ]
    }
   ],
   "source": [
    "def two_sum(arr, target):\n",
    "    i = 0\n",
    "    j = 0\n",
    "    sum_arr = 0\n",
    "\n",
    "    while j < len(arr):\n",
    "        if sum_arr < target:\n",
    "            sum_arr += arr[j]\n",
    "            j += 1\n",
    "\n",
    "        while sum_arr >= target and i < j:\n",
    "            sum_arr -= arr[i]\n",
    "            i += 1   \n",
    "\n",
    "        print(sum_arr)   \n",
    "        \n",
    "        if sum_arr == target:\n",
    "            return [i, j]\n",
    "\n",
    "two_sum([3,2,4], 6)"
   ]
  },
  {
   "cell_type": "markdown",
   "id": "d6e0ef74",
   "metadata": {},
   "source": [
    "# Sort Colors"
   ]
  },
  {
   "cell_type": "markdown",
   "id": "44dae2f6",
   "metadata": {},
   "source": [
    "# Bruteforce -> Better\n",
    "Brute is all about using a sorting algorithm"
   ]
  },
  {
   "cell_type": "code",
   "execution_count": 34,
   "id": "f80f8803",
   "metadata": {},
   "outputs": [
    {
     "data": {
      "text/plain": [
       "[0, 0, 1, 1, 2, 2]"
      ]
     },
     "execution_count": 34,
     "metadata": {},
     "output_type": "execute_result"
    }
   ],
   "source": [
    "def sortColors(arr):\n",
    "    count_0 = 0\n",
    "    count_1 = 0\n",
    "    count_2 = 0\n",
    "\n",
    "    for i in range(len(arr)):\n",
    "        if arr[i] == 0:\n",
    "            count_0 += 1\n",
    "\n",
    "        elif arr[i] == 1:\n",
    "            count_1 += 1\n",
    "\n",
    "        else:\n",
    "            count_2 += 1\n",
    "\n",
    "    for i in range(0, count_0):\n",
    "        arr[i] = 0\n",
    "\n",
    "    for j in range(count_0, count_0+count_1):\n",
    "        arr[j] = 1\n",
    "\n",
    "    for k in range(count_0+count_1, len(arr)):\n",
    "        arr[k] = 2\n",
    "\n",
    "    return arr\n",
    "\n",
    "sortColors([2,0,2,1,1,0])\n"
   ]
  },
  {
   "cell_type": "markdown",
   "id": "88083f04",
   "metadata": {},
   "source": [
    "# Optimal\n",
    "Using dutch national flag algorithm"
   ]
  },
  {
   "cell_type": "code",
   "execution_count": 36,
   "id": "2ce7d946",
   "metadata": {},
   "outputs": [
    {
     "data": {
      "text/plain": [
       "[0, 1, 2]"
      ]
     },
     "execution_count": 36,
     "metadata": {},
     "output_type": "execute_result"
    }
   ],
   "source": [
    "def sortedColor(arr):\n",
    "    low = 0\n",
    "    mid = 0\n",
    "    high = len(arr)-1\n",
    "\n",
    "    while mid < high:\n",
    "        if arr[mid] == 0:\n",
    "            arr[low], arr[mid] = arr[mid], arr[low]\n",
    "            mid += 1\n",
    "            low += 1\n",
    "\n",
    "        elif arr[mid] == 1:\n",
    "            mid += 1\n",
    "\n",
    "        else:\n",
    "            #when arr[mid] == 2\n",
    "            arr[mid], arr[high] = arr[high], arr[mid]\n",
    "            high -= 1\n",
    "\n",
    "    return arr\n",
    "\n",
    "\n",
    "sortColors([2,0,1])\n",
    "        \n"
   ]
  },
  {
   "cell_type": "markdown",
   "id": "16590767",
   "metadata": {},
   "source": [
    "# Majority Elements"
   ]
  },
  {
   "cell_type": "markdown",
   "id": "852d61e5",
   "metadata": {},
   "source": [
    "### Bruteforce\n",
    "This approach can use two arrays. One which traverse the array and another which helps us count the element.\n",
    "TC = O(n**2)"
   ]
  },
  {
   "cell_type": "code",
   "execution_count": 5,
   "id": "de515eba",
   "metadata": {},
   "outputs": [],
   "source": [
    "def majorityCount(nums):\n",
    "    for i in range(len(nums)):\n",
    "        count = 0\n",
    "        \n",
    "        for j in range(len(nums)):\n",
    "            if nums[j] == nums[i]:\n",
    "                count += 1\n",
    "\n",
    "        if count > len(nums)//2:\n",
    "            return nums[i]"
   ]
  },
  {
   "cell_type": "code",
   "execution_count": 6,
   "id": "0e47512e",
   "metadata": {},
   "outputs": [
    {
     "data": {
      "text/plain": [
       "2"
      ]
     },
     "execution_count": 6,
     "metadata": {},
     "output_type": "execute_result"
    }
   ],
   "source": [
    "majorityCount([2,2,1,1,1,2,2])"
   ]
  },
  {
   "cell_type": "markdown",
   "id": "c7c1af22",
   "metadata": {},
   "source": [
    "### Better\n",
    "We can maintain a hashmap where each element corresponds to its count. Then we traverse the hashmap and find if any element's count is more than or equal to n//2.\n",
    "- T.C. = O(n)\n",
    "- S.C = O(n)"
   ]
  },
  {
   "cell_type": "code",
   "execution_count": 1,
   "id": "747c1345",
   "metadata": {},
   "outputs": [],
   "source": [
    "def majorityCount(nums):\n",
    "    hash_nums = {}\n",
    "\n",
    "    for i in range(len(nums)):\n",
    "        if nums[i] in hash_nums:\n",
    "            hash_nums[nums[i]] += 1\n",
    "\n",
    "        else:\n",
    "            hash_nums[nums[i]] = 1\n",
    "\n",
    "    for key, val in hash_nums.items():\n",
    "        if val > len(nums)//2:\n",
    "            return key\n",
    "    "
   ]
  },
  {
   "cell_type": "code",
   "execution_count": null,
   "id": "be445f07",
   "metadata": {},
   "outputs": [
    {
     "data": {
      "text/plain": [
       "2"
      ]
     },
     "execution_count": 2,
     "metadata": {},
     "output_type": "execute_result"
    }
   ],
   "source": [
    "majorityCount([2,2,1,1,1,2,2])"
   ]
  },
  {
   "cell_type": "markdown",
   "id": "8ca51cb8",
   "metadata": {},
   "source": [
    "### Optimal\n",
    "\n",
    "We will use maximum voting algorithm here.  \n",
    "1. Use moore voting algorithm\n",
    "- take arr[0] as initial element. and turn its count = 1. Increment count if arr[i]==arr[0] elif arr[i] != arr[0] then decrement the elemeent count. if count == 0 then make the arr[i] as element and initialize the count to 1. This will work till last of arr\n",
    "2. Verify the most voted element"
   ]
  },
  {
   "cell_type": "code",
   "execution_count": 30,
   "id": "f0908b99",
   "metadata": {},
   "outputs": [],
   "source": [
    "def majorityCount(nums):\n",
    "    ele = nums[0]\n",
    "    count = 1\n",
    "    for i in range(len(nums)):\n",
    "        if nums[i] == ele:\n",
    "            count += 1\n",
    "\n",
    "        else:\n",
    "            count -= 1\n",
    "\n",
    "        if count == 0:\n",
    "            ele = nums[i]\n",
    "            count = 1\n",
    "\n",
    "    #verify\n",
    "    ele_count = 0\n",
    "    for i in range(len(nums)):\n",
    "        if nums[i] == ele:\n",
    "            ele_count += 1\n",
    "\n",
    "    if ele_count > len(nums)//2:\n",
    "        return ele\n",
    "    \n",
    "    else:\n",
    "        print()\n",
    "        return -1"
   ]
  },
  {
   "cell_type": "code",
   "execution_count": 31,
   "id": "4cbc7fc2",
   "metadata": {},
   "outputs": [
    {
     "data": {
      "text/plain": [
       "2"
      ]
     },
     "execution_count": 31,
     "metadata": {},
     "output_type": "execute_result"
    }
   ],
   "source": [
    "majorityCount([2, 2, 1, 2, 2])"
   ]
  },
  {
   "cell_type": "code",
   "execution_count": null,
   "id": "7daabf37",
   "metadata": {},
   "outputs": [],
   "source": []
  }
 ],
 "metadata": {
  "kernelspec": {
   "display_name": "Python 3",
   "language": "python",
   "name": "python3"
  },
  "language_info": {
   "codemirror_mode": {
    "name": "ipython",
    "version": 3
   },
   "file_extension": ".py",
   "mimetype": "text/x-python",
   "name": "python",
   "nbconvert_exporter": "python",
   "pygments_lexer": "ipython3",
   "version": "3.12.6"
  }
 },
 "nbformat": 4,
 "nbformat_minor": 5
}
